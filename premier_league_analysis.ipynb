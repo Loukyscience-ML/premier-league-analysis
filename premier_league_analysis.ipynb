{
 "cells": [
  {
   "cell_type": "markdown",
   "id": "981ff7cf",
   "metadata": {},
   "source": [
    "# Premiere League Data Analysis"
   ]
  },
  {
   "cell_type": "markdown",
   "id": "63b257e8",
   "metadata": {},
   "source": [
    "## Introduction\n",
    "\n",
    "#### This project aims to analyze  Premier League data to understand team and player performance through various statistics. The dataset includes player names, teams, nationalities, ages, playing minutes, goals, assists, shots, cards, dribbles, and many other indicators that help assess individual and collective performance.\n",
    "\n",
    "Through this analysis, insights will be extracted to answer questions such as:\n",
    "- What are the most influential factors in goal scoring?\n",
    "- How do passes and dribbles impact player performance?\n",
    "- Which teams excel in defense or attack based on available data?\n",
    "- Can player performance in upcoming matches be predicted using historical data?\n",
    "Using data analysis tools and statistical visualizations, accurate and useful results will be provided that can be used by football fans, sports analysts, and even coaches to develop playing strategies.\n",
    "If you want to add more details or adjust the style, let me know and I'll help!\n"
   ]
  },
  {
   "cell_type": "code",
   "execution_count": null,
   "id": "8cc400f9",
   "metadata": {},
   "outputs": [],
   "source": [
    "# Import necessary libraries for data analysis and visualization\n",
    "import pandas as pd\n",
    "import numpy as np\n",
    "import matplotlib.pyplot as plt\n",
    "import seaborn as sns\n",
    "import warnings\n",
    "warnings.filterwarnings(\"ignore\")\n"
   ]
  },
  {
   "cell_type": "code",
   "execution_count": null,
   "id": "6dbb7487",
   "metadata": {},
   "outputs": [],
   "source": [
    "# Load the dataset and take an initial look\n",
    "df = pd.read_csv('player_stats.csv') \n",
    "\n",
    "# Display the first few rows to understand the structure\n",
    "df.head()\n"
   ]
  },
  {
   "cell_type": "code",
   "execution_count": null,
   "id": "b74d4b3c",
   "metadata": {},
   "outputs": [],
   "source": [
    "# Check the shape of the dataset (rows, columns)\n",
    "df.shape"
   ]
  },
  {
   "cell_type": "code",
   "execution_count": null,
   "id": "9e84963d",
   "metadata": {},
   "outputs": [],
   "source": [
    "# Check for missing values\n",
    "df.isna().sum()"
   ]
  },
  {
   "cell_type": "code",
   "execution_count": null,
   "id": "c4193715",
   "metadata": {},
   "outputs": [],
   "source": [
    "# View basic info about columns and data types\n",
    "df.info()"
   ]
  },
  {
   "cell_type": "code",
   "execution_count": null,
   "id": "45b41299",
   "metadata": {},
   "outputs": [],
   "source": [
    "# View basic statistics for numerical columns\n",
    "df.describe()"
   ]
  },
  {
   "cell_type": "code",
   "execution_count": null,
   "id": "dfb0d925",
   "metadata": {},
   "outputs": [],
   "source": [
    "# Create a backup copy of the original dataset to preserve the raw data\n",
    "df_original = df.copy()"
   ]
  },
  {
   "cell_type": "markdown",
   "id": "3d284514",
   "metadata": {},
   "source": [
    "## ---- Data Cleaning ----"
   ]
  },
  {
   "cell_type": "code",
   "execution_count": null,
   "id": "ef354d56",
   "metadata": {},
   "outputs": [],
   "source": [
    "# Check for missing values in each column\n",
    "df.isna().sum()"
   ]
  },
  {
   "cell_type": "code",
   "execution_count": null,
   "id": "e62c4a44",
   "metadata": {},
   "outputs": [],
   "source": [
    "# Clean 'Pass Completion %' column:\n",
    "# - Replace commas with dots\n",
    "# - Convert to float\n",
    "# - Fill missing values with column mean\n",
    "df['Pass Completion %'] = df['Pass Completion %'].str.replace(',', '.')\n",
    "df['Pass Completion %'] = df['Pass Completion %'].astype(float)\n",
    "df['Pass Completion %'].fillna(df['Pass Completion %'].mean(), inplace=True)"
   ]
  },
  {
   "cell_type": "code",
   "execution_count": null,
   "id": "bfd00a06",
   "metadata": {},
   "outputs": [],
   "source": [
    "# Rename '#' column to 'NUM' for clarity\n",
    "df.rename(columns={'#': 'NUM'}, inplace=True)"
   ]
  },
  {
   "cell_type": "code",
   "execution_count": null,
   "id": "83df5af0",
   "metadata": {},
   "outputs": [],
   "source": [
    "# Split the 'Age' column on '-' and keep only the first part (the actual age)\n",
    "# Removing extra text after '-' (e.g., '29-343' -> '29')\n",
    "df['Age'] = df['Age'].str.split('-').str[0]\n",
    "\n",
    "# Convert the cleaned 'Age' column to integer type\n",
    "df['Age'] = df['Age'].astype(int)"
   ]
  },
  {
   "cell_type": "code",
   "execution_count": null,
   "id": "bbc4185f",
   "metadata": {},
   "outputs": [],
   "source": [
    "# Extract the primary position from the list by keeping only the first value\n",
    "df['Position'] = df['Position'].str.strip().str.split(',').str[0]"
   ]
  },
  {
   "cell_type": "code",
   "execution_count": null,
   "id": "38f9cddb",
   "metadata": {},
   "outputs": [],
   "source": [
    "# convert Date column to datetime and  change format to be month day year \n",
    "df['Date'] = pd.to_datetime(df['Date'], format='%Y-%m-%d')\n"
   ]
  },
  {
   "cell_type": "markdown",
   "id": "88c290d8",
   "metadata": {},
   "source": [
    "\n",
    "#  Exploratory Data Analysis (EDA)\n",
    "\n"
   ]
  },
  {
   "cell_type": "markdown",
   "id": "78d4e810",
   "metadata": {},
   "source": [
    "##### In this section, we explore the dataset to uncover patterns, trends, and relationships.\n",
    "#### This includes analyzing distributions, top performers, correlations, and team-level statistics.\n",
    "##### Visualizations will be used to support understanding of player and team performance.\n"
   ]
  },
  {
   "cell_type": "code",
   "execution_count": null,
   "id": "5e8f6c63",
   "metadata": {},
   "outputs": [],
   "source": [
    "# Age distribution \n",
    "\n",
    "plt.figure(figsize=(10, 6))\n",
    "sns.histplot(df['Age'], bins=15, kde=True, color='skyblue')\n",
    "plt.title('Player Age Distribution')\n",
    "plt.xlabel('Age')\n",
    "plt.ylabel('Count')\n",
    "plt.show()\n"
   ]
  },
  {
   "cell_type": "code",
   "execution_count": null,
   "id": "9f0a440a",
   "metadata": {},
   "outputs": [],
   "source": [
    "# Top 20 Midfielders with the Most Assists\n",
    "# Filter midfielders only\n",
    "midfield_roles = ['DM', 'CM', 'LM', 'RM']\n",
    "midfielders = df[df['Position'].isin(midfield_roles)]\n",
    "\n",
    "# Sort by Assists\n",
    "top_mf_assists = midfielders.sort_values(by='Assists', ascending=False).head(20)\n",
    "# Plot\n",
    "plt.figure(figsize=(10, 6))\n",
    "sns.barplot(data=top_mf_assists, x='Assists', y='Player', palette='Purples_d', ci=None)\n",
    "plt.title('Top 10 Midfielders by Assists')\n",
    "plt.xlabel('Assists')\n",
    "plt.ylabel('Player')\n",
    "plt.tight_layout()\n",
    "plt.show()\n"
   ]
  },
  {
   "cell_type": "code",
   "execution_count": null,
   "id": "c55de25a",
   "metadata": {},
   "outputs": [],
   "source": [
    "# Top 20 Defenders by Tackles\n",
    "\n",
    "# Define defender positions\n",
    "defensive_roles = ['RB', 'LB', 'CB', 'WB']\n",
    "\n",
    "# Filter for defenders\n",
    "defenders = df[df['Position'].isin(defensive_roles)]\n",
    "\n",
    "# Sort by Tackles\n",
    "top_defenders = defenders.sort_values(by='Tackles', ascending=False).head(10)\n",
    "\n",
    "# Plot\n",
    "plt.figure(figsize=(12, 8))\n",
    "sns.barplot(\n",
    "    data=top_defenders,\n",
    "    x='Tackles',\n",
    "    y='Player',\n",
    "    hue='Position',\n",
    "    palette='Greens',\n",
    "    errorbar=None\n",
    ")\n",
    "plt.title('Top 20 Defenders by Tackles')\n",
    "plt.xlabel('Tackles')\n",
    "plt.ylabel('Player')\n",
    "plt.legend(title='Position')\n",
    "plt.tight_layout()\n",
    "plt.show()"
   ]
  },
  {
   "cell_type": "code",
   "execution_count": null,
   "id": "5d1d2ed6",
   "metadata": {},
   "outputs": [],
   "source": [
    "# Filter only Forwards\n",
    "\n",
    "forwards = df[df['Position'] == 'FW']\n",
    "\n",
    "#Sort by Goals\n",
    "top_scorers = forwards.sort_values(by='Goals', ascending=False).head(10)\n",
    "\n",
    "# Plot\n",
    "plt.figure(figsize=(10, 6))\n",
    "sns.barplot(\n",
    "    data=top_scorers,\n",
    "    x='Goals',\n",
    "    y='Player',\n",
    "    palette='Reds',\n",
    "    errorbar=None\n",
    ")\n",
    "plt.title('Top 10 Forwards by Goals Scored')\n",
    "plt.xlabel('Goals')\n",
    "plt.ylabel('Player')\n",
    "plt.tight_layout()\n",
    "plt.show()\n"
   ]
  },
  {
   "cell_type": "code",
   "execution_count": null,
   "id": "4a3af088",
   "metadata": {},
   "outputs": [],
   "source": [
    "# The League's Top Scorer\n",
    "# Sort the entire DataFrame by 'Goals' in descending order to get the top scorers\n",
    "top_10_scorers = df.sort_values(by='Goals', ascending=False).head(10)\n",
    "\n",
    "# Create a horizontal bar plot to visualize the top 10 players by goals scored\n",
    "plt.figure(figsize=(10, 6))  # Set the figure size for better readability\n",
    "\n",
    "# Draw the barplot with player names on the y-axis and their goal count on the x-axis\n",
    "sns.barplot(\n",
    "    data=top_10_scorers,\n",
    "    x='Goals',\n",
    "    y='Player',\n",
    "    palette='Oranges',     # Set a warm orange color palette\n",
    "    errorbar=None          # Disable confidence intervals to keep it clean\n",
    ")\n",
    "\n",
    "# Add a descriptive title and axis labels\n",
    "plt.title('Top 10 Goal Scorers (All Positions)')\n",
    "plt.xlabel('Goals')\n",
    "plt.ylabel('Player')\n",
    "\n",
    "# Adjust layout to prevent overlapping or cutting off labels\n",
    "plt.tight_layout()\n",
    "\n",
    "# Show the final plot\n",
    "plt.show()"
   ]
  },
  {
   "cell_type": "code",
   "execution_count": null,
   "id": "45baab58",
   "metadata": {
    "scrolled": true
   },
   "outputs": [],
   "source": [
    "# Strongest Attacking Teams\n",
    "# The team with the highest number of goals scored is considered to have the strongest attacking line.\n",
    "\n",
    "top_attacking_teams = df.groupby('Team')['Goals'].sum().sort_values(ascending=False).head(10)\n",
    "\n",
    "plt.figure(figsize=(10, 6))\n",
    "sns.barplot(x=top_attacking_teams.values, y=top_attacking_teams.index, palette='Reds')\n",
    "plt.title('Top 10 Teams with Strongest Attacking Line (Total Goals Scored)')\n",
    "plt.xlabel('Total Goals Scored')\n",
    "plt.ylabel('Team')\n",
    "plt.tight_layout()\n",
    "plt.show()\n"
   ]
  },
  {
   "cell_type": "code",
   "execution_count": null,
   "id": "bfc101c9",
   "metadata": {
    "scrolled": true
   },
   "outputs": [],
   "source": [
    "# Get correlation matrix\n",
    "corr = df.corr(numeric_only=True)\n",
    "\n",
    "# Create mask for the upper triangle\n",
    "mask = np.triu(np.ones_like(corr, dtype=bool))\n",
    "\n",
    "# Plot heatmap with mask\n",
    "plt.figure(figsize=(14, 10))\n",
    "sns.heatmap(corr, mask=mask, annot=True, cmap='coolwarm', fmt=\".2f\", linewidths=.5)\n",
    "plt.title('📊 Correlation Heatmap (Cleaned)')\n",
    "plt.tight_layout()\n",
    "plt.show()\n"
   ]
  },
  {
   "cell_type": "code",
   "execution_count": null,
   "id": "73be3785",
   "metadata": {},
   "outputs": [],
   "source": [
    "# Get full correlation\n",
    "corr_matrix = df.corr(numeric_only=True)\n",
    "\n",
    "# Unstack and filter top absolute correlations\n",
    "top_corrs = corr_matrix.unstack().reset_index()\n",
    "top_corrs.columns = ['Feature1', 'Feature2', 'Correlation']\n",
    "\n",
    "# Remove self-correlations and duplicates\n",
    "top_corrs = top_corrs[top_corrs['Feature1'] != top_corrs['Feature2']]\n",
    "top_corrs['AbsCorr'] = top_corrs['Correlation'].abs()\n",
    "top_corrs = top_corrs.sort_values('AbsCorr', ascending=False).drop_duplicates(subset=['Correlation'])\n",
    "\n",
    "# Show top 10\n",
    "top_corrs.head(30)\n"
   ]
  },
  {
   "cell_type": "code",
   "execution_count": null,
   "id": "d5f7a712",
   "metadata": {},
   "outputs": [],
   "source": [
    "#  Tactical Analysis: Evaluating Passing Accuracy and Ball Progression by Position\n",
    "\n",
    "import matplotlib.pyplot as plt\n",
    "import seaborn as sns\n",
    "\n",
    "#  Scatter plot: Relationship between pass accuracy and progressive passes\n",
    "plt.figure(figsize=(10, 6))\n",
    "sns.scatterplot(\n",
    "    data= df, \n",
    "    x='Pass Completion %', \n",
    "    y='Progressive Passes', \n",
    "    hue='Position', \n",
    "    palette='coolwarm', \n",
    "    alpha=0.7\n",
    ")\n",
    "plt.title('Impact of Pass Accuracy on Progressive Passing by Position')\n",
    "plt.xlabel('Pass Completion Percentage')\n",
    "plt.ylabel('Number of Progressive Passes')\n",
    "plt.legend(title='Position')\n",
    "plt.show()"
   ]
  },
  {
   "cell_type": "code",
   "execution_count": null,
   "id": "6a3a857a",
   "metadata": {},
   "outputs": [],
   "source": [
    "# Scatter plot: Influence of successful dribbles on progressive carries\n",
    "plt.figure(figsize=(10, 6))\n",
    "sns.scatterplot(\n",
    "    data=df, \n",
    "    x='Successful Dribbles', \n",
    "    y='Progressive Carries', \n",
    "    hue='Position', \n",
    "    palette='viridis', \n",
    "    alpha=0.7\n",
    ")\n",
    "plt.title('Effect of Dribbling Success on Progressive Ball Carrying')\n",
    "plt.xlabel('Number of Successful Dribbles')\n",
    "plt.ylabel('Number of Progressive Carries')\n",
    "plt.legend(title='Position')\n",
    "plt.show()"
   ]
  },
  {
   "cell_type": "markdown",
   "id": "06f1fa5c",
   "metadata": {},
   "source": [
    "## Summary of Key Insights & Recommendations\n",
    "\n",
    "This analysis of Premier League player data provided several valuable insights into individual and team performances across various positions:\n",
    "\n",
    "- **Top Performers by Role:**  \n",
    "  - Forwards like [insert top scorer name if desired] stood out as the league's most prolific goal scorers.\n",
    "  - Midfielders such as [insert top assister name if desired] led in assists, indicating strong creative influence.\n",
    "  - Defenders with the highest number of tackles demonstrated solid defensive contribution, especially in the full-back and center-back roles.\n",
    "\n",
    "- **Team Performance Patterns:**  \n",
    "  - Chelsea emerged as the team with the strongest attacking line based on total goals scored.\n",
    "  - Defensive metrics suggested key areas where teams vary widely in strength, which may be useful for tactical planning and scouting.\n",
    "\n",
    "- **Correlation Insights:**  \n",
    "  - Strong positive correlations were found between:\n",
    "    - Passes Attempted and Passes Completed\n",
    "    - Touches and Passes Attempted\n",
    "    - xG and Non-Penalty xG\n",
    "    - Progressive actions and passing accuracy  \n",
    "  These suggest that ball progression and possession are tightly linked to passing efficiency and dribbling success.\n",
    "\n",
    "- **Tactical Observations:**  \n",
    "  - Players with higher pass completion percentages tended to contribute more progressive passes, especially in midfield and defensive roles.\n",
    "  - Successful dribbles were also strongly associated with progressive carries, particularly among wide players and attacking midfielders.\n",
    "\n",
    "### Recommendations for Further Analysis:\n",
    "- Incorporate expected goals (xG) and expected assists (xAG) into player performance models.\n",
    "- Extend analysis to a team-level aggregation for defensive and attacking metrics.\n",
    "- Use clustering or PCA for dimensionality reduction and player role segmentation.\n",
    "- Combine with external match results or standings to align performance with team success.\n",
    "\n",
    "This notebook provides a solid foundation for further tactical and predictive modeling and is suitable for portfolio demonstration, scouting support, or strategic analysis use cases.\n"
   ]
  },
  {
   "cell_type": "code",
   "execution_count": null,
   "id": "c8918eac",
   "metadata": {},
   "outputs": [],
   "source": []
  }
 ],
 "metadata": {
  "kernelspec": {
   "display_name": "Python 3 (ipykernel)",
   "language": "python",
   "name": "python3"
  },
  "language_info": {
   "codemirror_mode": {
    "name": "ipython",
    "version": 3
   },
   "file_extension": ".py",
   "mimetype": "text/x-python",
   "name": "python",
   "nbconvert_exporter": "python",
   "pygments_lexer": "ipython3",
   "version": "3.11.5"
  }
 },
 "nbformat": 4,
 "nbformat_minor": 5
}
